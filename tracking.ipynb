{
 "cells": [
  {
   "cell_type": "code",
   "execution_count": null,
   "metadata": {},
   "outputs": [],
   "source": [
    "\n",
    "import omegaconf\n",
    "from utils.data import DataLoader\n",
    "import matplotlib.pyplot as plt\n",
    "\n",
    "import torch\n",
    "import torch.nn as nn\n",
    "import torch.optim as optim\n",
    "import torch.nn.functional as F\n",
    "\n",
    "from utils.model import PosPredictor\n",
    "from utils.tracker import Tracker\n",
    "import glob\n",
    "import numpy as np"
   ]
  },
  {
   "cell_type": "code",
   "execution_count": 3,
   "metadata": {},
   "outputs": [],
   "source": [
    "conf = omegaconf.OmegaConf.load('configs/baseConfig.yaml')\n",
    "conf.LoaderParams.norm = False\n",
    "conf.LoaderParams.ParticleNumber = 100\n",
    "train_loader = DataLoader('data/train',**conf.LoaderParams)"
   ]
  },
  {
   "cell_type": "markdown",
   "metadata": {},
   "source": [
    "# Tracking for PG"
   ]
  },
  {
   "cell_type": "code",
   "execution_count": 4,
   "metadata": {},
   "outputs": [],
   "source": [
    "device = 'cpu'"
   ]
  },
  {
   "cell_type": "code",
   "execution_count": 5,
   "metadata": {},
   "outputs": [],
   "source": [
    "def loadPretrainedModel(path):\n",
    "    conf = omegaconf.OmegaConf.load(path+\"/config.yaml\")\n",
    "    model = PosPredictor(**conf.ModelParams)\n",
    "    model.initSinkhornArgs(**conf.SinkhornParams)\n",
    "    model.compile(optimizer=torch.optim.Adam,loss=torch.nn.MSELoss,device = device)\n",
    "    model.load_state_dict(torch.load(path+\"/model.pth\"))\n",
    "    return model"
   ]
  },
  {
   "cell_type": "code",
   "execution_count": 6,
   "metadata": {},
   "outputs": [],
   "source": [
    "def CorrectionMask(S,Sinkhorn = False):\n",
    "    xpreds = torch.argmin(S,dim=1) if not Sinkhorn else torch.argmax(S,dim=1)\n",
    "    ypreds = torch.argmin(S,dim=2) if not Sinkhorn else torch.argmax(S,dim=2)\n",
    "    #x_prev[torch.arange(x_prev.size(0)).unsqueeze(1),xpreds] == 0\n",
    "    #zmask = x_prev == 0 #+x_prev[torch.arange(x_prev.size(0)).unsqueeze(1),ypreds] == 0\n",
    "    return (xpreds == ypreds) #+ zmask.all(dim = -1)"
   ]
  },
  {
   "cell_type": "code",
   "execution_count": 7,
   "metadata": {},
   "outputs": [],
   "source": [
    "#modelPaths =[\"runs_PosPred/Mar14_14-45-59_cluster6_targetLayer_0\",\"runs_PosPred/Mar14_16-10-32_cluster6_targetLayer_1\",\"runs_PosPred/Mar14_17-36-39_cluster6_targetLayer_2\"]\n",
    "#modelList = [loadPretrainedModel(path) for path in modelPaths]\n"
   ]
  },
  {
   "cell_type": "code",
   "execution_count": null,
   "metadata": {},
   "outputs": [
    {
     "ename": "",
     "evalue": "",
     "output_type": "error",
     "traceback": [
      "\u001b[1;31mnotebook controller is DISPOSED. \n",
      "\u001b[1;31mView Jupyter <a href='command:jupyter.viewOutput'>log</a> for further details."
     ]
    },
    {
     "ename": "",
     "evalue": "",
     "output_type": "error",
     "traceback": [
      "\u001b[1;31mnotebook controller is DISPOSED. \n",
      "\u001b[1;31mView Jupyter <a href='command:jupyter.viewOutput'>log</a> for further details."
     ]
    },
    {
     "ename": "",
     "evalue": "",
     "output_type": "error",
     "traceback": [
      "\u001b[1;31mnotebook controller is DISPOSED. \n",
      "\u001b[1;31mView Jupyter <a href='command:jupyter.viewOutput'>log</a> for further details."
     ]
    }
   ],
   "source": [
    "tracker = Tracker(modelList)\n",
    "tracker.add_loader(train_loader)"
   ]
  },
  {
   "cell_type": "code",
   "execution_count": 9,
   "metadata": {},
   "outputs": [],
   "source": [
    "batch = torch.from_numpy(next(iter(train_loader)))\n",
    "#res = tracker.tracking(batch,maxLayer=10,useSinkhorn=True)"
   ]
  },
  {
   "cell_type": "code",
   "execution_count": 8,
   "metadata": {},
   "outputs": [],
   "source": [
    "def SinkhornMatch(x1,x2,temp = .9,n_iter:int = 10):\n",
    "    distMX = torch.cdist(x1,x2,p=2)\n",
    "    S = torch.softmax(-distMX/temp,dim=1)\n",
    "    for _ in range(n_iter):\n",
    "        S /= torch.sum(S,dim=1,keepdim=True)\n",
    "        S /= torch.sum(S,dim=2,keepdim=True)\n",
    "    mask = None#self.CorrectionMask(S,x_prev,Sinkhorn=True)\n",
    "    res = torch.argmax(S,dim=1)\n",
    "    return res,mask\n",
    "\n",
    "def match(x1,x2):\n",
    "    distMX = torch.cdist(x1,x2,p=2)\n",
    "    LikelyMatches = torch.argmin(distMX,dim=1)\n",
    "    #mask = CorrectionMask(distMX)\n",
    "    return LikelyMatches, None#mask\n"
   ]
  },
  {
   "cell_type": "markdown",
   "metadata": {},
   "source": [
    "# Old Stuff"
   ]
  },
  {
   "cell_type": "code",
   "execution_count": 10,
   "metadata": {},
   "outputs": [
    {
     "data": {
      "text/plain": [
       "torch.Size([256, 100, 41, 3])"
      ]
     },
     "execution_count": 10,
     "metadata": {},
     "output_type": "execute_result"
    }
   ],
   "source": [
    "x_target = batch[:,:,0]\n",
    "x_prev = batch[:,:,1]\n",
    "x_prev2 = batch[:,:,2]\n",
    "\n",
    "\n",
    "batch.shape"
   ]
  },
  {
   "cell_type": "code",
   "execution_count": null,
   "metadata": {},
   "outputs": [],
   "source": []
  },
  {
   "cell_type": "code",
   "execution_count": 18,
   "metadata": {},
   "outputs": [
    {
     "name": "stdout",
     "output_type": "stream",
     "text": [
      "54.01171875\n",
      "56.8671875\n",
      "59.8828125\n",
      "61.60546875\n",
      "63.21484375\n",
      "64.296875\n",
      "65.43359375\n",
      "66.5546875\n",
      "66.4921875\n"
     ]
    }
   ],
   "source": [
    "for t in np.arange(0.1,1.,.1):\n",
    "    acc = 0.\n",
    "    LikelyMatches, Mask = SinkhornMatch(x_target,x_prev,temp= t)\n",
    "    for idx in range(batch.shape[0]):\n",
    "        res = x_target[idx][LikelyMatches[idx]].eq(x_target[idx]).sum()/3\n",
    "        acc += res.item()\n",
    "    print(acc/batch.shape[0])\n",
    "\n",
    "#modelRes = modelList[0](x_prev,x_prev2)\n",
    "#acc = 0.\n",
    "#LikelyMatches, Mask = SinkhornMatch(x_target,modelRes)\n",
    "#for idx in range(batch.shape[0]):\n",
    "#    res = x_target[idx][LikelyMatches[idx]].eq(x_target[idx]).sum()/3\n",
    "#    acc += res.item()\n",
    "#print(acc/batch.shape[0])\n"
   ]
  },
  {
   "cell_type": "code",
   "execution_count": 20,
   "metadata": {},
   "outputs": [
    {
     "name": "stdout",
     "output_type": "stream",
     "text": [
      "Batchwise accuracy: 66.1171875\n"
     ]
    }
   ],
   "source": [
    "acc = 0.\n",
    "LikelyMatches, Mask = SinkhornMatch(x_target,x_prev,temp= 1.)\n",
    "for idx in range(batch.shape[0]):\n",
    "    res = x_target[idx][LikelyMatches[idx]].eq(x_target[idx]).sum()/3\n",
    "    acc += res.item()\n",
    "print('Batchwise accuracy:',acc/batch.shape[0])"
   ]
  },
  {
   "cell_type": "code",
   "execution_count": null,
   "metadata": {},
   "outputs": [
    {
     "name": "stdout",
     "output_type": "stream",
     "text": [
      "Batchwise accuracy: 65.55859375\n",
      "Batchwise accuracy: 65.04296875\n",
      "Batchwise accuracy: 65.1640625\n",
      "Batchwise accuracy: 66.61328125\n",
      "Batchwise accuracy: 66.125\n",
      "Batchwise accuracy: 66.22265625\n",
      "Batchwise accuracy: 65.80859375\n",
      "Batchwise accuracy: 66.6015625\n",
      "Batchwise accuracy: 65.97265625\n",
      "Batchwise accuracy: 67.296875\n",
      "Batchwise accuracy: 66.42578125\n",
      "Batchwise accuracy: 66.1171875\n",
      "Batchwise accuracy: 66.0625\n",
      "Batchwise accuracy: 67.375\n",
      "Batchwise accuracy: 66.8515625\n",
      "Batchwise accuracy: 66.63671875\n",
      "Batchwise accuracy: 66.53125\n",
      "Batchwise accuracy: 66.9609375\n",
      "Batchwise accuracy: 65.64453125\n",
      "Batchwise accuracy: 66.4296875\n",
      "Batchwise accuracy: 67.109375\n",
      "Overall Accuracy: 69.6275390625\n"
     ]
    }
   ],
   "source": [
    "bacc = 0.\n",
    "for i, batch in enumerate(train_loader):\n",
    "    batch = torch.from_numpy(batch)\n",
    "    x_target = batch[:,:,0]\n",
    "    x_prev = batch[:,:,1]\n",
    "    acc = 0.\n",
    "    LikelyMatches, Mask = SinkhornMatch(x_target,x_prev,temp= 1.)\n",
    "    for idx in range(batch.shape[0]):\n",
    "        res = x_target[idx][LikelyMatches[idx]].eq(x_target[idx]).sum()/3\n",
    "        acc += res.item()\n",
    "    resacc = acc/batch.shape[0]\n",
    "    bacc +=resacc\n",
    "    print('Batchwise accuracy:',resacc)\n",
    "    if i == 20:\n",
    "        break\n"
   ]
  },
  {
   "cell_type": "code",
   "execution_count": 26,
   "metadata": {},
   "outputs": [
    {
     "name": "stdout",
     "output_type": "stream",
     "text": [
      "Overall Accuracy: 66.31194196428571\n"
     ]
    }
   ],
   "source": [
    "print('Overall Accuracy:', bacc/21)"
   ]
  },
  {
   "cell_type": "code",
   "execution_count": 25,
   "metadata": {},
   "outputs": [
    {
     "data": {
      "text/plain": [
       "torch.Size([256, 100, 3])"
      ]
     },
     "execution_count": 25,
     "metadata": {},
     "output_type": "execute_result"
    }
   ],
   "source": [
    "sf1 = nn.Softmax(dim=2)\n",
    "sf1(modelRes).shape\n"
   ]
  },
  {
   "cell_type": "code",
   "execution_count": 35,
   "metadata": {},
   "outputs": [
    {
     "data": {
      "text/plain": [
       "<matplotlib.collections.PathCollection at 0x76535be5fa00>"
      ]
     },
     "execution_count": 35,
     "metadata": {},
     "output_type": "execute_result"
    },
    {
     "data": {
      "image/png": "[encoded data removed]",
      "text/plain": [
       "<Figure size 640x480 with 1 Axes>"
      ]
     },
     "metadata": {},
     "output_type": "display_data"
    }
   ],
   "source": [
    "plt.scatter(modelRes[0,:,0].detach().numpy(),modelRes[0,:,1].detach().numpy())\n",
    "plt.scatter(x_target[0,:,0].numpy(),x_target[0,:,1].numpy())"
   ]
  },
  {
   "cell_type": "code",
   "execution_count": 13,
   "metadata": {},
   "outputs": [
    {
     "data": {
      "text/plain": [
       "<matplotlib.collections.PathCollection at 0x7aed65237ca0>"
      ]
     },
     "execution_count": 13,
     "metadata": {},
     "output_type": "execute_result"
    },
    {
     "data": {
      "image/png": "[encoded data removed]",
      "text/plain": [
       "<Figure size 640x480 with 1 Axes>"
      ]
     },
     "metadata": {},
     "output_type": "display_data"
    }
   ],
   "source": [
    "normalize = lambda x: (x - x.min()) / (x.max() - x.min())\n",
    "plt.scatter(normalize(modelRes[0,:,0].detach().numpy()),normalize(modelRes[0,:,1].detach().numpy()))\n",
    "plt.scatter(normalize(x_target[0,:,0].numpy()),normalize(x_target[0,:,1].numpy()))"
   ]
  },
  {
   "cell_type": "code",
   "execution_count": 14,
   "metadata": {},
   "outputs": [],
   "source": [
    "distMX = torch.cdist(modelRes,x_target)\n",
    "distMX.shape\n",
    "mask = CorrectionMask(distMX,Sinkhorn= False)"
   ]
  },
  {
   "cell_type": "code",
   "execution_count": 15,
   "metadata": {},
   "outputs": [
    {
     "data": {
      "text/plain": [
       "torch.Size([256, 200])"
      ]
     },
     "execution_count": 15,
     "metadata": {},
     "output_type": "execute_result"
    }
   ],
   "source": [
    "LikelyMatches = torch.argmin(distMX,dim=1)\n",
    "LikelyMatches.shape"
   ]
  },
  {
   "cell_type": "code",
   "execution_count": 16,
   "metadata": {},
   "outputs": [
    {
     "data": {
      "text/plain": [
       "tensor(0.8850)"
      ]
     },
     "execution_count": 16,
     "metadata": {},
     "output_type": "execute_result"
    }
   ],
   "source": [
    "x_target[0].eq(x_target[0][LikelyMatches[0]]).sum()/x_target.shape[1]"
   ]
  },
  {
   "cell_type": "markdown",
   "metadata": {},
   "source": [
    "# Testing Matching"
   ]
  },
  {
   "cell_type": "code",
   "execution_count": 17,
   "metadata": {},
   "outputs": [],
   "source": [
    "def CorrectionMask(S):\n",
    "    xpreds = torch.argmin(S,dim=1)\n",
    "    ypreds = torch.argmin(S,dim=2)\n",
    "    return xpreds == ypreds"
   ]
  },
  {
   "cell_type": "code",
   "execution_count": 18,
   "metadata": {},
   "outputs": [],
   "source": [
    "def match(x1,x2):\n",
    "    distMX = torch.cdist(x1,x2,p=2)\n",
    "    LikelyMatches = torch.argmin(distMX,dim=1)\n",
    "    mask = CorrectionMask(distMX)\n",
    "    return LikelyMatches, mask\n"
   ]
  },
  {
   "cell_type": "code",
   "execution_count": 19,
   "metadata": {},
   "outputs": [],
   "source": [
    "def SinkhornMatch(x1,x2,temp = .9,n_iter:int = 10):\n",
    "    distMX = torch.cdist(x1,x2,p=2)\n",
    "    S = torch.softmax(-distMX/temp,dim=1)\n",
    "    for _ in range(n_iter):\n",
    "        S /= torch.sum(S,dim=1,keepdim=True)\n",
    "        S /= torch.sum(S,dim=2,keepdim=True)\n",
    "    mask = None#self.CorrectionMask(S,x_prev,Sinkhorn=True)\n",
    "    res = torch.argmax(S,dim=1)\n",
    "    return res,mask"
   ]
  },
  {
   "cell_type": "code",
   "execution_count": 20,
   "metadata": {},
   "outputs": [
    {
     "data": {
      "text/plain": [
       "tensor(0.7550)"
      ]
     },
     "execution_count": 20,
     "metadata": {},
     "output_type": "execute_result"
    }
   ],
   "source": [
    "x_target = batch[:,:,0]\n",
    "x1= batch[:,:,1]\n",
    "x2 = batch[:,:,2]\n",
    "x_prev = modelList[0](x2,x1)\n",
    "distMX = torch.cdist(x_target,x_prev)\n",
    "\n",
    "LikelyMatches = torch.argmin(distMX,dim=2)\n",
    "idxs = LikelyMatches[0]\n",
    "t = x_target[0]\n",
    "torch.mean((t[idxs] == t)*1.)"
   ]
  },
  {
   "cell_type": "code",
   "execution_count": 62,
   "metadata": {},
   "outputs": [
    {
     "name": "stdout",
     "output_type": "stream",
     "text": [
      "Accurcy: 0.739, temp: 1 Sinkhorn acc: 0.783\n",
      "Accurcy: 0.743, temp: 1 Sinkhorn acc: 0.783\n",
      "Accurcy: 0.740, temp: 1 Sinkhorn acc: 0.781\n",
      "Accurcy: 0.741, temp: 1 Sinkhorn acc: 0.783\n",
      "Accurcy: 0.743, temp: 1 Sinkhorn acc: 0.782\n",
      "Accurcy: 0.742, temp: 1 Sinkhorn acc: 0.782\n",
      "Accurcy: 0.745, temp: 1 Sinkhorn acc: 0.788\n",
      "Accurcy: 0.739, temp: 1 Sinkhorn acc: 0.784\n",
      "Accurcy: 0.742, temp: 1 Sinkhorn acc: 0.783\n",
      "Accurcy: 0.740, temp: 1 Sinkhorn acc: 0.782\n"
     ]
    }
   ],
   "source": [
    "targetLayer = 0\n",
    "t = 1\n",
    "for i in range(10):\n",
    "    batch = torch.from_numpy(next(iter(train_loader)))\n",
    "    x_target = batch[:,:,targetLayer]\n",
    "    x1= batch[:,:,targetLayer+1]\n",
    "    x2 = batch[:,:,targetLayer+2]\n",
    "    x_prev = x1 if targetLayer >= len(modelList) else modelList[targetLayer](x2,x1)\n",
    "    LikelyMatches, mask = match(x_target,x_prev)\n",
    "    acc = x_target[torch.arange(x_target.size(0)).unsqueeze(1),LikelyMatches].eq(x_target).sum()/(x_target.numel())\n",
    "    SinkhornMatches,_ = SinkhornMatch(x_prev,x_target,temp= t)\n",
    "    SinkhorNacc = x_target[torch.arange(x_target.size(0)).unsqueeze(1),SinkhornMatches].eq(x_target).sum()/(x_target.numel())\n",
    "\n",
    "    print(f\"Accurcy: {acc.item():.3f}, temp: {t} Sinkhorn acc: {SinkhorNacc:.3f}\")"
   ]
  },
  {
   "cell_type": "code",
   "execution_count": 63,
   "metadata": {},
   "outputs": [],
   "source": [
    "targetLayer = 0\n",
    "t = 1\n",
    "batch = torch.from_numpy(next(iter(train_loader)))\n",
    "x_target = batch[:,:,targetLayer]\n",
    "x1= batch[:,:,targetLayer+1]\n",
    "x2 = batch[:,:,targetLayer+2]\n",
    "x_prev = x1 if targetLayer >= len(modelList) else modelList[targetLayer](x2,x1)\n",
    "LikelyMatches, mask = match(x_target,x_prev)\n",
    "purity,acc, numRec, = 0,0,0\n",
    "y = x_target\n"
   ]
  },
  {
   "cell_type": "code",
   "execution_count": 64,
   "metadata": {},
   "outputs": [
    {
     "data": {
      "text/plain": [
       "(256,\n",
       " tensor([[False,  True,  True,  ...,  True,  True,  True],\n",
       "         [False,  True, False,  ..., False,  True, False],\n",
       "         [False, False,  True,  ...,  True,  True,  True],\n",
       "         ...,\n",
       "         [False, False, False,  ...,  True,  True, False],\n",
       "         [False,  True,  True,  ...,  True,  True,  True],\n",
       "         [ True,  True,  True,  ...,  True, False, False]]))"
      ]
     },
     "execution_count": 64,
     "metadata": {},
     "output_type": "execute_result"
    }
   ],
   "source": [
    "y.shape[0],mask"
   ]
  },
  {
   "cell_type": "code",
   "execution_count": 65,
   "metadata": {},
   "outputs": [
    {
     "name": "stdout",
     "output_type": "stream",
     "text": [
      "Accurcy: 0.636, Purity: 0.920, numRec: 35379\n"
     ]
    }
   ],
   "source": [
    "for b in range(y.shape[0]):\n",
    "    numReconstructed = torch.sum(mask[b])\n",
    "    \n",
    "    numRec += numReconstructed\n",
    "    truepoints = y[b]\n",
    "    truepoints_masked = truepoints[mask[b]]\n",
    "    comparepoints = y[b,LikelyMatches[b]]\n",
    "    comparepoints_masked = comparepoints[mask[b]]\n",
    "\n",
    "    purity += torch.sum(comparepoints_masked == truepoints_masked)/(3*numReconstructed)\n",
    "    acc += torch.sum(comparepoints_masked == truepoints_masked)/(3*y.shape[1])\n",
    "purity /= y.shape[0]\n",
    "acc /= y.shape[0]\n",
    "print(f\"Accurcy: {acc.item():.3f}, Purity: {purity.item():.3f}, numRec: {numRec.item()}\")"
   ]
  },
  {
   "cell_type": "markdown",
   "metadata": {},
   "source": [
    "# Evaluate tracking"
   ]
  },
  {
   "cell_type": "code",
   "execution_count": 21,
   "metadata": {},
   "outputs": [],
   "source": [
    "tracks = torch.zeros(batch.shape)"
   ]
  },
  {
   "cell_type": "code",
   "execution_count": 23,
   "metadata": {},
   "outputs": [],
   "source": [
    "def evalTrack(batch,useSinkhorn:bool = True ,temp = 0.1):\n",
    "    tracks = torch.zeros(batch.shape)\n",
    "    for targetLayer in range(39):\n",
    "        x_target = batch[:,:,targetLayer]\n",
    "        x1 = batch[:,:,targetLayer+1]\n",
    "        x2 = batch[:,:,targetLayer+2]\n",
    "        x_prev = x1 if targetLayer >= len(modelList) else modelList[targetLayer](x2,x1)\n",
    "        SinkhornMatches,_ = SinkhornMatch(x_prev,x_target,temp= temp) if useSinkhorn else match(x_prev,x_target)\n",
    "        reconstructed = x_target[torch.arange(x_target.size(0)).unsqueeze(1),SinkhornMatches]         \n",
    "        tracks[:,:,targetLayer] = reconstructed\n",
    "    y_true = batch[:,:,:]\n",
    "    y_pred = tracks[:,:,:]\n",
    "    comp = y_true == y_pred\n",
    "    numPureTracks = comp.all(dim = -1).all(dim = -1).sum()\n",
    "    pureTrackRatio = numPureTracks/(comp.shape[0]*comp.shape[1])\n",
    "    print(f\"Accurcy: {comp.sum()/(comp.numel())}\")\n",
    "    return y_true,y_pred    "
   ]
  },
  {
   "cell_type": "code",
   "execution_count": 24,
   "metadata": {},
   "outputs": [
    {
     "name": "stdout",
     "output_type": "stream",
     "text": [
      "Temp: 0.1\n",
      "Accurcy: 0.9381449818611145\n",
      "\n",
      "\n",
      "\n",
      "Temp: 0.3\n",
      "Accurcy: 0.9381449818611145\n",
      "\n",
      "\n",
      "\n",
      "Temp: 0.5\n",
      "Accurcy: 0.9381449818611145\n",
      "\n",
      "\n",
      "\n",
      "Temp: 0.7\n",
      "Accurcy: 0.9381449818611145\n",
      "\n",
      "\n",
      "\n",
      "Temp: 0.9\n",
      "Accurcy: 0.9381449818611145\n",
      "\n",
      "\n",
      "\n",
      "Temp: 1.1\n",
      "Accurcy: 0.9381449818611145\n",
      "\n",
      "\n",
      "\n",
      "Temp: 1.3\n",
      "Accurcy: 0.9381449818611145\n",
      "\n",
      "\n",
      "\n",
      "Temp: 1.5\n",
      "Accurcy: 0.9381449818611145\n",
      "\n",
      "\n",
      "\n"
     ]
    }
   ],
   "source": [
    "for t in [.1,.3,.5,.7,.9,1.1,1.3,1.5]:\n",
    "    print(f\"Temp: {t}\")\n",
    "    evalTrack(batch,t)\n",
    "    print(\"\\n\\n\")"
   ]
  },
  {
   "cell_type": "code",
   "execution_count": null,
   "metadata": {},
   "outputs": [],
   "source": []
  },
  {
   "cell_type": "code",
   "execution_count": 26,
   "metadata": {},
   "outputs": [
    {
     "ename": "NameError",
     "evalue": "name 'acc' is not defined",
     "output_type": "error",
     "traceback": [
      "\u001b[0;31m---------------------------------------------------------------------------\u001b[0m",
      "\u001b[0;31mNameError\u001b[0m                                 Traceback (most recent call last)",
      "Input \u001b[0;32mIn [26]\u001b[0m, in \u001b[0;36m<cell line: 2>\u001b[0;34m()\u001b[0m\n\u001b[1;32m     11\u001b[0m SinkhorNacc \u001b[38;5;241m=\u001b[39mreconstructed\u001b[38;5;241m.\u001b[39meq(x_target)\u001b[38;5;241m.\u001b[39msum()\u001b[38;5;241m/\u001b[39m(x_target\u001b[38;5;241m.\u001b[39mnumel())\n\u001b[1;32m     13\u001b[0m tracks[:,:,targetLayer] \u001b[38;5;241m=\u001b[39m reconstructed\n\u001b[0;32m---> 14\u001b[0m \u001b[38;5;28mprint\u001b[39m(\u001b[38;5;124mf\u001b[39m\u001b[38;5;124m\"\u001b[39m\u001b[38;5;124mAccurcy: \u001b[39m\u001b[38;5;132;01m{\u001b[39;00macc\u001b[38;5;241m.\u001b[39mitem()\u001b[38;5;132;01m:\u001b[39;00m\u001b[38;5;124m.3f\u001b[39m\u001b[38;5;132;01m}\u001b[39;00m\u001b[38;5;124m Sinkhorn acc: \u001b[39m\u001b[38;5;132;01m{\u001b[39;00mSinkhorNacc\u001b[38;5;132;01m:\u001b[39;00m\u001b[38;5;124m.3f\u001b[39m\u001b[38;5;132;01m}\u001b[39;00m\u001b[38;5;124m\"\u001b[39m)\n\u001b[1;32m     15\u001b[0m y_true \u001b[38;5;241m=\u001b[39m batch[:,:,:]\n\u001b[1;32m     16\u001b[0m y_pred \u001b[38;5;241m=\u001b[39m tracks[:,:,:]\n",
      "\u001b[0;31mNameError\u001b[0m: name 'acc' is not defined"
     ]
    }
   ],
   "source": [
    "tracks = torch.zeros(batch.shape)\n",
    "for targetLayer in range(39):\n",
    "    x_target = batch[:,:,targetLayer]\n",
    "    x1 = batch[:,:,targetLayer+1]\n",
    "    x2 = batch[:,:,targetLayer+2]\n",
    "    x_prev = x1 if targetLayer >= len(modelList) else modelList[targetLayer](x2,x1)\n",
    "    \n",
    "    LikelyMatches, _ = match(x_target,x_prev)\n",
    "    SinkhornMatches,_ = SinkhornMatch(x_prev,x_target,temp= 0.001)\n",
    "    reconstructed = x_target[torch.arange(x_target.size(0)).unsqueeze(1),SinkhornMatches] \n",
    "    SinkhorNacc =reconstructed.eq(x_target).sum()/(x_target.numel())\n",
    "    \n",
    "    tracks[:,:,targetLayer] = reconstructed\n",
    "    print(f\"Accurcy: {acc.item():.3f} Sinkhorn acc: {SinkhorNacc:.3f}\")\n",
    "    y_true = batch[:,:,:]\n",
    "    y_pred = tracks[:,:,:]\n",
    "    comp = y_true == y_pred\n",
    "    pureTrackRatio = comp.all(dim = -1).all(dim = -1).sum()/comp.shape[0]\n",
    "    print(f\"Accurcy: {comp.sum()/(comp.numel())}\")\n",
    "    print(f\"PureTrackRatio: {pureTrackRatio}\")"
   ]
  },
  {
   "cell_type": "code",
   "execution_count": 96,
   "metadata": {},
   "outputs": [],
   "source": [
    "y_true = batch[:,:,:]\n",
    "y_pred = tracks[:,:,:]"
   ]
  },
  {
   "cell_type": "code",
   "execution_count": 97,
   "metadata": {},
   "outputs": [
    {
     "data": {
      "text/plain": [
       "tensor(0.4056)"
      ]
     },
     "execution_count": 97,
     "metadata": {},
     "output_type": "execute_result"
    }
   ],
   "source": [
    "comp = y_true == y_pred\n",
    "comp.sum()/(comp.numel())   "
   ]
  },
  {
   "cell_type": "code",
   "execution_count": 103,
   "metadata": {},
   "outputs": [
    {
     "data": {
      "text/plain": [
       "tensor([[True, True, True],\n",
       "        [True, True, True],\n",
       "        [True, True, True],\n",
       "        [True, True, True],\n",
       "        [True, True, True],\n",
       "        [True, True, True],\n",
       "        [True, True, True],\n",
       "        [True, True, True],\n",
       "        [True, True, True],\n",
       "        [True, True, True],\n",
       "        [True, True, True],\n",
       "        [True, True, True],\n",
       "        [True, True, True],\n",
       "        [True, True, True],\n",
       "        [True, True, True],\n",
       "        [True, True, True],\n",
       "        [True, True, True],\n",
       "        [True, True, True],\n",
       "        [True, True, True],\n",
       "        [True, True, True],\n",
       "        [True, True, True],\n",
       "        [True, True, True],\n",
       "        [True, True, True],\n",
       "        [True, True, True],\n",
       "        [True, True, True],\n",
       "        [True, True, True],\n",
       "        [True, True, True],\n",
       "        [True, True, True],\n",
       "        [True, True, True],\n",
       "        [True, True, True],\n",
       "        [True, True, True],\n",
       "        [True, True, True],\n",
       "        [True, True, True],\n",
       "        [True, True, True],\n",
       "        [True, True, True],\n",
       "        [True, True, True],\n",
       "        [True, True, True],\n",
       "        [True, True, True],\n",
       "        [True, True, True],\n",
       "        [True, True, True],\n",
       "        [True, True, True]])"
      ]
     },
     "execution_count": 103,
     "metadata": {},
     "output_type": "execute_result"
    }
   ],
   "source": [
    "y_true[0,0] == y_pred[0,0]"
   ]
  },
  {
   "cell_type": "code",
   "execution_count": 98,
   "metadata": {},
   "outputs": [
    {
     "data": {
      "text/plain": [
       "tensor(0.5859)"
      ]
     },
     "execution_count": 98,
     "metadata": {},
     "output_type": "execute_result"
    }
   ],
   "source": [
    "comp.all(dim = -1).all(dim = -1).sum()/comp.shape[0]"
   ]
  },
  {
   "cell_type": "code",
   "execution_count": 80,
   "metadata": {},
   "outputs": [
    {
     "name": "stdout",
     "output_type": "stream",
     "text": [
      "tensor(0.9083)\n"
     ]
    }
   ],
   "source": [
    "res = tracks.eq(batch)\n",
    "trackrecacc = res.sum()/res.numel()\n",
    "print(trackrecacc)"
   ]
  },
  {
   "cell_type": "code",
   "execution_count": null,
   "metadata": {},
   "outputs": [],
   "source": []
  },
  {
   "cell_type": "code",
   "execution_count": null,
   "metadata": {},
   "outputs": [],
   "source": []
  },
  {
   "cell_type": "code",
   "execution_count": null,
   "metadata": {},
   "outputs": [],
   "source": []
  }
 ],
 "metadata": {
  "kernelspec": {
   "display_name": "pct",
   "language": "python",
   "name": "python3"
  },
  "language_info": {
   "codemirror_mode": {
    "name": "ipython",
    "version": 3
   },
   "file_extension": ".py",
   "mimetype": "text/x-python",
   "name": "python",
   "nbconvert_exporter": "python",
   "pygments_lexer": "ipython3",
   "version": "3.9.13"
  }
 },
 "nbformat": 4,
 "nbformat_minor": 2
}
