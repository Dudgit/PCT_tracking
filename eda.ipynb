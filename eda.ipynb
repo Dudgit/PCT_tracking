{
 "cells": [
  {
   "cell_type": "markdown",
   "metadata": {},
   "source": [
    "# Importing training Data"
   ]
  },
  {
   "cell_type": "code",
   "execution_count": 2,
   "metadata": {},
   "outputs": [
    {
     "name": "stdout",
     "output_type": "stream",
     "text": [
      "The autoreload extension is already loaded. To reload it, use:\n",
      "  %reload_ext autoreload\n"
     ]
    }
   ],
   "source": [
    "%load_ext autoreload\n",
    "%autoreload 2"
   ]
  },
  {
   "cell_type": "code",
   "execution_count": 1,
   "metadata": {},
   "outputs": [],
   "source": [
    "\n",
    "import omegaconf\n",
    "import matplotlib.pyplot as plt\n",
    "\n",
    "import torch\n",
    "import torch.nn as nn\n",
    "import torch.optim as optim\n",
    "import torch.nn.functional as F\n",
    "\n",
    "from utils.model import PosPredictor\n",
    "from utils.tracker import Tracker\n",
    "from utils.data import  Dataset\n",
    "import numpy as np"
   ]
  },
  {
   "cell_type": "code",
   "execution_count": 2,
   "metadata": {},
   "outputs": [],
   "source": [
    "conf = omegaconf.OmegaConf.load('configs/baseConfig.yaml')\n",
    "conf.LoaderParams.ParticleNumber = 100\n",
    "train_dataset = Dataset('data/train',**conf.LoaderParams)"
   ]
  },
  {
   "cell_type": "code",
   "execution_count": 3,
   "metadata": {},
   "outputs": [],
   "source": [
    "train_loader = torch.utils.data.DataLoader(train_dataset,batch_size=conf.TrainingParams.batch_size,shuffle=True)"
   ]
  },
  {
   "cell_type": "code",
   "execution_count": 4,
   "metadata": {},
   "outputs": [],
   "source": [
    "batch = next(iter(train_loader))"
   ]
  },
  {
   "cell_type": "code",
   "execution_count": null,
   "metadata": {},
   "outputs": [
    {
     "data": {
      "text/plain": [
       "torch.Size([256, 100, 41, 3])"
      ]
     },
     "execution_count": 5,
     "metadata": {},
     "output_type": "execute_result"
    }
   ],
   "source": []
  },
  {
   "cell_type": "code",
   "execution_count": 4,
   "metadata": {},
   "outputs": [],
   "source": [
    "def SinkhornMatching(distMx,temp=0.59,n_iter=10):\n",
    "    S = torch.softmax(-distMx/temp,dim=1)\n",
    "    for i in range(n_iter):\n",
    "        S /= torch.sum(S,dim=1,keepdim=True)\n",
    "        S /= torch.sum(S,dim=2,keepdim=True)\n",
    "    return S"
   ]
  },
  {
   "cell_type": "code",
   "execution_count": 5,
   "metadata": {},
   "outputs": [],
   "source": [
    "rootDir = 'runs_PosPred'\n",
    "exper = \"Mar25_12-39-34_cluster6_lessParticleTargetLayer_0_dims_2_pnum_100\"\n",
    "expconf = omegaconf.OmegaConf.load(f'{rootDir}/{exper}/config.yaml')\n",
    "model1 = PosPredictor(**expconf.ModelParams)\n",
    "model1.load_state_dict(torch.load(f'{rootDir}/{exper}/model.pth'))\n",
    "train_loader = DataLoader('data/train',**expconf.LoaderParams)"
   ]
  },
  {
   "cell_type": "code",
   "execution_count": 6,
   "metadata": {},
   "outputs": [],
   "source": [
    "linparams = {\n",
    "  0: {'x0':2.16319192, 'x1':-1.18323074,'x2':-1.51100711e-04}, \n",
    "  1:{'x0' : 6.89116584, 'x1':-5.91835476, 'x2': -2.05235233e-04} \n",
    "}"
   ]
  },
  {
   "cell_type": "code",
   "execution_count": 34,
   "metadata": {},
   "outputs": [],
   "source": [
    "params = np.array([np.array([2.1566,-1.1769,-0.0001]),np.array([6.8254,-5.8531,-0.0002]),np.array([1.8068,-0.8102,0.0])] )"
   ]
  },
  {
   "cell_type": "code",
   "execution_count": 7,
   "metadata": {},
   "outputs": [],
   "source": [
    "params0 = np.array([2.16319192,-1.18323074,-1.51100711e-04]) #p1*x1 + p2*x2 + p3\n",
    "params1 = np.array([6.89116584,-5.91835476,-2.05235233e-04]) #p1*x1 + p2*x2 + p3"
   ]
  },
  {
   "cell_type": "code",
   "execution_count": 8,
   "metadata": {},
   "outputs": [
    {
     "data": {
      "text/plain": [
       "(256, 100, 41, 2)"
      ]
     },
     "execution_count": 8,
     "metadata": {},
     "output_type": "execute_result"
    }
   ],
   "source": [
    "batch = next(iter(train_loader))\n",
    "batch.shape"
   ]
  },
  {
   "cell_type": "code",
   "execution_count": null,
   "metadata": {},
   "outputs": [
    {
     "name": "stdout",
     "output_type": "stream",
     "text": [
      "PG Accrucay at layer 0 is 0.829\n",
      "PG Accrucay at layer 1 is 0.728\n",
      "PG Accrucay at layer 2 is 0.981\n",
      "PG Accrucay at layer 3 is 0.978\n",
      "PG Accrucay at layer 4 is 0.981\n",
      "PG Accrucay at layer 5 is 0.981\n",
      "PG Accrucay at layer 6 is 0.975\n",
      "PG Accrucay at layer 7 is 0.979\n",
      "PG Accrucay at layer 8 is 0.971\n",
      "PG Accrucay at layer 9 is 0.974\n"
     ]
    }
   ],
   "source": [
    "for targetLayer in range(0,10):\n",
    "    target = torch.Tensor(batch[:,:,targetLayer])\n",
    "    tmp = batch[:,:,targetLayer+1]\n",
    "    tmp2 = batch[:,:,targetLayer+2]\n",
    "    pidx = targetLayer if targetLayer < 2 else 2\n",
    "    pred = tmp*params[pidx,0] + tmp2*params[pidx,1] + params[pidx,2]\n",
    "    distmx = torch.cdist(torch.Tensor(pred),target)\n",
    "    S = SinkhornMatching(distmx,n_iter=10)\n",
    "    LikelyMatches = torch.argmax(S,dim=1)\n",
    "    acc = target[torch.arange(target.shape[0]).unsqueeze(1),LikelyMatches].eq(target).sum()/target.nelement()\n",
    "    print(f'PG Accrucay at layer {targetLayer} is {acc:.3f}')\n"
   ]
  },
  {
   "cell_type": "code",
   "execution_count": 31,
   "metadata": {},
   "outputs": [
    {
     "data": {
      "text/plain": [
       "0.948984375"
      ]
     },
     "execution_count": 31,
     "metadata": {},
     "output_type": "execute_result"
    }
   ],
   "source": [
    "acc.item()/target.nelement()"
   ]
  },
  {
   "cell_type": "code",
   "execution_count": 16,
   "metadata": {},
   "outputs": [],
   "source": [
    "targetLayer = 0\n",
    "target = batch[:,:,targetLayer]\n",
    "tmp = batch[:,:,targetLayer+1]\n",
    "tmp2 = batch[:,:,targetLayer+2]\n",
    "pred = tmp*params0[0] + tmp2*params0[1] + params0[2]\n",
    "res = target-pred\n",
    "\n",
    "\n",
    "\n",
    "modelRes = model1(torch.Tensor(tmp[:,:,:2]),torch.Tensor(tmp2[:,:,:2]))\n",
    "res2 = target- modelRes.detach().numpy()\n",
    "\n",
    "targetLayer = 1\n",
    "target = batch[:,:,targetLayer]\n",
    "tmp = batch[:,:,targetLayer+1]\n",
    "tmp2 = batch[:,:,targetLayer+2]\n",
    "modelRes = model1(torch.Tensor(tmp[:,:,:2]),torch.Tensor(tmp2[:,:,:2]))\n",
    "pred = tmp*params0[:2]\n",
    "res11 = target-pred\n",
    "res12 = target- modelRes.detach().numpy()"
   ]
  },
  {
   "cell_type": "code",
   "execution_count": 18,
   "metadata": {},
   "outputs": [
    {
     "data": {
      "image/png": "[encoded data removed]",
      "text/plain": [
       "<Figure size 1000x600 with 2 Axes>"
      ]
     },
     "metadata": {},
     "output_type": "display_data"
    }
   ],
   "source": [
    "plt.figure(figsize=(10,6))\n",
    "plt.subplot(121)\n",
    "plt.hist(res[:,:,0].flatten(),bins = 100,label='PG fit X dim')\n",
    "plt.hist(res2[:,:,0].flatten(),bins = 100,label = 'DL fit, X dim')\n",
    "plt.legend()\n",
    "plt.subplot(122)\n",
    "plt.hist(res[:,:,1].flatten(),bins = 100,label='PG fit Y dim')\n",
    "plt.hist(res2[:,:,1].flatten(),bins = 100,label = 'DL fit, Y dim')\n",
    "plt.legend()\n",
    "None"
   ]
  },
  {
   "cell_type": "code",
   "execution_count": 12,
   "metadata": {},
   "outputs": [
    {
     "data": {
      "image/png": "[encoded data removed]",
      "text/plain": [
       "<Figure size 1000x600 with 2 Axes>"
      ]
     },
     "metadata": {},
     "output_type": "display_data"
    }
   ],
   "source": [
    "plt.figure(figsize=(10,6))\n",
    "plt.subplot(121)\n",
    "plt.hist(res11[:,:,0].flatten(),bins = 1000,label='PG fit X dim')\n",
    "plt.hist(res12[:,:,0].flatten(),bins = 1000,label = 'DL fit, X dim')\n",
    "plt.legend()\n",
    "plt.subplot(122)\n",
    "plt.hist(res11[:,:,1].flatten(),bins = 1000,label='PG fit Y dim')\n",
    "plt.hist(res12[:,:,1].flatten(),bins = 1000,label = 'DL fit, Y dim')\n",
    "plt.legend()\n",
    "None"
   ]
  },
  {
   "cell_type": "code",
   "execution_count": null,
   "metadata": {},
   "outputs": [],
   "source": []
  },
  {
   "cell_type": "code",
   "execution_count": null,
   "metadata": {},
   "outputs": [],
   "source": []
  },
  {
   "cell_type": "markdown",
   "metadata": {},
   "source": [
    "# Model testings"
   ]
  },
  {
   "cell_type": "code",
   "execution_count": 80,
   "metadata": {},
   "outputs": [],
   "source": [
    "#rootDir = 'runs'\n",
    "#exper = \"Mar04_10-44-10_cluster6_vanilla_layer_0\"\n",
    "#expconf = omegaconf.OmegaConf.load(f'{rootDir}/{exper}/config.yaml')\n",
    "#model1 = PosPredictor(**expconf.ModelParams)\n",
    "#model1.load_state_dict(torch.load(f'{rootDir}/{exper}/model.pth'))\n",
    "#\n",
    "#exper = \"Mar04_10-44-03_cluster6_vanilla_layer_1\"\n",
    "#expconf = omegaconf.OmegaConf.load(f'{rootDir}/{exper}/config.yaml')\n",
    "#model2 = PosPredictor(**expconf.ModelParams)\n",
    "#model2.load_state_dict(torch.load(f'{rootDir}/{exper}/model.pth'))"
   ]
  },
  {
   "cell_type": "code",
   "execution_count": 11,
   "metadata": {},
   "outputs": [],
   "source": [
    "trakcer = Tracker(model1=None,model2=None)\n",
    "valLoader = DataLoader('data/test',**conf.ValLoaderParams,ParticleNumber=200)\n",
    "trakcer.add_loader(valLoader)\n",
    "trakcer.temp = 0.1"
   ]
  },
  {
   "cell_type": "code",
   "execution_count": 12,
   "metadata": {},
   "outputs": [],
   "source": [
    "def CorrectionMask(S,x_prev):\n",
    "    ##\n",
    "    ## Flag values where true has 0 values\n",
    "    ## Or simply accept flags as args\n",
    "    xpreds = torch.argmin(S,dim=1)\n",
    "    ypreds = torch.argmin(S,dim=2)\n",
    "    #x_prev[torch.arange(x_prev.size(0)).unsqueeze(1),xpreds] == 0\n",
    "    zmask = x_prev == 0 #+x_prev[torch.arange(x_prev.size(0)).unsqueeze(1),ypreds] == 0\n",
    "    return xpreds == ypreds + zmask.all(dim = -1)"
   ]
  },
  {
   "cell_type": "markdown",
   "metadata": {},
   "source": [
    "# Try model accuracies"
   ]
  },
  {
   "cell_type": "code",
   "execution_count": 13,
   "metadata": {},
   "outputs": [],
   "source": [
    "batch = torch.from_numpy(next(iter(train_loader)))\n",
    "t = 20\n",
    "x_target = batch[:,:,t]\n",
    "x_prev = batch[:,:,t-1]"
   ]
  },
  {
   "cell_type": "code",
   "execution_count": 14,
   "metadata": {},
   "outputs": [],
   "source": [
    "xl = batch[:,:,t+2]\n",
    "xr = batch[:,:,t+1]\n",
    "y = batch[:,:,t]"
   ]
  },
  {
   "cell_type": "code",
   "execution_count": 15,
   "metadata": {},
   "outputs": [],
   "source": [
    "res, mask = trakcer.match(x_prev,x_prev)"
   ]
  },
  {
   "cell_type": "code",
   "execution_count": null,
   "metadata": {},
   "outputs": [],
   "source": []
  },
  {
   "cell_type": "code",
   "execution_count": 16,
   "metadata": {},
   "outputs": [
    {
     "name": "stdout",
     "output_type": "stream",
     "text": [
      "Accuracy at layer 0 is 0.005, 0.005\n",
      "Accuracy at layer 1 is 0.452, 0.401\n",
      "Accuracy at layer 2 is 0.627, 0.592\n",
      "Accuracy at layer 3 is 0.954, 0.986\n",
      "Accuracy at layer 4 is 0.961, 0.983\n",
      "Accuracy at layer 5 is 0.951, 0.980\n",
      "Accuracy at layer 6 is 0.980, 0.977\n",
      "Accuracy at layer 7 is 0.981, 0.972\n",
      "Accuracy at layer 8 is 0.964, 0.970\n",
      "Accuracy at layer 9 is 0.965, 0.966\n",
      "Accuracy at layer 10 is 0.963, 0.962\n",
      "Accuracy at layer 11 is 0.962, 0.960\n",
      "Accuracy at layer 12 is 0.963, 0.956\n",
      "Accuracy at layer 13 is 0.936, 0.954\n",
      "Accuracy at layer 14 is 0.961, 0.950\n",
      "Accuracy at layer 15 is 0.954, 0.947\n",
      "Accuracy at layer 16 is 0.945, 0.944\n",
      "Accuracy at layer 17 is 0.924, 0.940\n",
      "Accuracy at layer 18 is 0.918, 0.937\n",
      "Accuracy at layer 19 is 0.922, 0.938\n",
      "Accuracy at layer 20 is 0.908, 0.940\n",
      "Accuracy at layer 21 is 0.911, 0.942\n",
      "Accuracy at layer 22 is 0.937, 0.946\n",
      "Accuracy at layer 23 is 0.942, 0.950\n",
      "Accuracy at layer 24 is 0.947, 0.953\n",
      "Accuracy at layer 25 is 0.939, 0.957\n",
      "Accuracy at layer 26 is 0.928, 0.960\n",
      "Accuracy at layer 27 is 0.961, 0.964\n",
      "Accuracy at layer 28 is 0.962, 0.968\n",
      "Accuracy at layer 29 is 0.949, 0.971\n"
     ]
    }
   ],
   "source": [
    "\n",
    "for t in range(0,30):\n",
    "    x_target = batch[:,:,t]\n",
    "    x_prev = batch[:,:,t-1]\n",
    "    distmx = torch.cdist(x_prev,x_target)\n",
    "    S = SinkhornMatching(distmx,n_iter=10)\n",
    "    LikelyMatches = torch.argmax(S,dim=1)\n",
    "    res, _ = trakcer.match(x_prev,x_target)\n",
    "    acc = x_target[torch.arange(x_target.size(0)).unsqueeze(1),LikelyMatches].eq(x_target).sum().item()/x_prev.nelement()\n",
    "    acc2 = x_target[torch.arange(x_target.size(0)).unsqueeze(1),res].eq(x_target).sum().item()/x_prev.nelement()\n",
    "    print(f\"Accuracy at layer {t} is {acc:.3f}, {acc2:.3f}\")"
   ]
  },
  {
   "cell_type": "code",
   "execution_count": 17,
   "metadata": {},
   "outputs": [],
   "source": [
    "S = torch.cdist(x_target,x_prev)\n",
    "LikelyMatches = torch.argmin(S,dim=1)\n",
    "xpreds = torch.argmin(S,dim=1)\n",
    "ypreds = torch.argmin(S,dim=2)\n",
    "mask = xpreds == ypreds"
   ]
  },
  {
   "cell_type": "code",
   "execution_count": 18,
   "metadata": {},
   "outputs": [
    {
     "data": {
      "text/plain": [
       "0.94029296875"
      ]
     },
     "execution_count": 18,
     "metadata": {},
     "output_type": "execute_result"
    }
   ],
   "source": [
    "x_target.eq(x_target[torch.arange(x_target.size(0)).unsqueeze(1),LikelyMatches]).all(dim=-1).sum().item()/(x_target.size(0)*x_target.size(1))"
   ]
  },
  {
   "cell_type": "code",
   "execution_count": 6,
   "metadata": {},
   "outputs": [
    {
     "name": "stderr",
     "output_type": "stream",
     "text": [
      "Training 18:   5%|\u001b[34m▍         \u001b[0m| 19/400 [00:04<01:21,  4.68it/s]\n"
     ]
    },
    {
     "ename": "KeyboardInterrupt",
     "evalue": "",
     "output_type": "error",
     "traceback": [
      "\u001b[0;31m---------------------------------------------------------------------------\u001b[0m",
      "\u001b[0;31mKeyboardInterrupt\u001b[0m                         Traceback (most recent call last)",
      "Input \u001b[0;32mIn [6]\u001b[0m, in \u001b[0;36m<cell line: 4>\u001b[0;34m()\u001b[0m\n\u001b[1;32m      3\u001b[0m loopObj \u001b[38;5;241m=\u001b[39m tqdm\u001b[38;5;241m.\u001b[39mtqdm(\u001b[38;5;28mrange\u001b[39m(\u001b[38;5;241m400\u001b[39m),colour\u001b[38;5;241m=\u001b[39m\u001b[38;5;124m'\u001b[39m\u001b[38;5;124mblue\u001b[39m\u001b[38;5;124m'\u001b[39m,desc\u001b[38;5;241m=\u001b[39m\u001b[38;5;124m'\u001b[39m\u001b[38;5;124mTraining\u001b[39m\u001b[38;5;124m'\u001b[39m)\n\u001b[1;32m      4\u001b[0m \u001b[38;5;28;01mfor\u001b[39;00m i \u001b[38;5;129;01min\u001b[39;00m loopObj:\n\u001b[0;32m----> 5\u001b[0m     \u001b[43mtime\u001b[49m\u001b[38;5;241;43m.\u001b[39;49m\u001b[43msleep\u001b[49m\u001b[43m(\u001b[49m\u001b[38;5;241;43m.2\u001b[39;49m\u001b[43m)\u001b[49m\n\u001b[1;32m      6\u001b[0m     loopObj\u001b[38;5;241m.\u001b[39mset_description(\u001b[38;5;124mf\u001b[39m\u001b[38;5;124m\"\u001b[39m\u001b[38;5;124mTraining \u001b[39m\u001b[38;5;132;01m{\u001b[39;00mi\u001b[38;5;132;01m}\u001b[39;00m\u001b[38;5;124m\"\u001b[39m)\n\u001b[1;32m      7\u001b[0m     loopObj\u001b[38;5;241m.\u001b[39mrefresh()\n",
      "\u001b[0;31mKeyboardInterrupt\u001b[0m: "
     ]
    }
   ],
   "source": [
    "import time\n",
    "import tqdm\n",
    "loopObj = tqdm.tqdm(range(400),colour='blue',desc='Training')\n",
    "for i in loopObj:\n",
    "    time.sleep(.2)\n",
    "    loopObj.set_description(f\"Training {i}\")\n",
    "    loopObj.refresh()"
   ]
  },
  {
   "cell_type": "markdown",
   "metadata": {},
   "source": [
    "# Testing Tracker"
   ]
  },
  {
   "cell_type": "code",
   "execution_count": 74,
   "metadata": {},
   "outputs": [
    {
     "name": "stdout",
     "output_type": "stream",
     "text": [
      "Layer 3 acc: 0.080 purity: 0.0\n",
      "Layer 4 acc: 0.090 purity: 0.0\n",
      "Layer 5 acc: 0.100 purity: 0.0\n",
      "Layer 6 acc: 0.108 purity: 0.0\n",
      "Layer 7 acc: 0.118 purity: 0.0\n",
      "Layer 8 acc: 0.129 purity: 0.0\n",
      "Layer 9 acc: 0.139 purity: 0.0\n",
      "Layer 10 acc: 0.147 purity: 0.0\n",
      "Layer 11 acc: 0.157 purity: 0.0\n",
      "Layer 12 acc: 0.166 purity: 0.0\n",
      "Layer 13 acc: 0.178 purity: 0.0\n",
      "Layer 14 acc: 0.186 purity: 0.0\n",
      "Layer 15 acc: 0.196 purity: 0.0\n",
      "Layer 16 acc: 0.205 purity: 0.0\n",
      "Layer 17 acc: 0.211 purity: 0.0\n",
      "Layer 18 acc: 0.212 purity: 0.0\n",
      "Layer 19 acc: 0.258 purity: 0.0\n",
      "Layer 20 acc: 0.314 purity: 0.0\n",
      "Layer 21 acc: 0.368 purity: 0.0\n",
      "Layer 22 acc: 0.418 purity: 0.0\n",
      "Layer 23 acc: 0.488 purity: 0.0\n",
      "Layer 24 acc: 0.530 purity: 0.0\n",
      "Layer 25 acc: 0.567 purity: 0.0\n",
      "Layer 26 acc: 0.612 purity: 0.0\n",
      "Layer 27 acc: 0.662 purity: 0.0\n",
      "Layer 28 acc: 0.710 purity: 0.0\n",
      "Layer 29 acc: 0.756 purity: 0.0\n"
     ]
    }
   ],
   "source": [
    "batch = torch.from_numpy(next(iter(train_loader)))\n",
    "tracks = torch.zeros_like(batch)\n",
    "masks = torch.zeros_like(batch)\n",
    "for t in range(3,30):\n",
    "    x_target = batch[:,:,t]\n",
    "    x_prev = batch[:,:,t+1]\n",
    "    #x_prev2 = batch[:,:,t+2]\n",
    "    res, mask = trakcer.step(x_target,x_prev,x_prev,t,useSinkhorn=True)\n",
    "    tracks[:,:,t] = x_target[torch.arange(x_target.size(0)).unsqueeze(1),res]\n",
    "    masks[:,:,t] = torch.stack([mask,mask,mask],dim=-1)\n",
    "    acc, purity = trakcer.scoreMatch(x_target=x_target,res=res,mask=mask)\n",
    "    print(f\"Layer {t} acc: {acc:.3f} purity: {purity}\")"
   ]
  },
  {
   "cell_type": "code",
   "execution_count": null,
   "metadata": {},
   "outputs": [
    {
     "name": "stdout",
     "output_type": "stream",
     "text": [
      "0.9569642857142857 0.9151171875 171.76953125\n",
      "0.9577650669642858 0.91828125 172.69921875\n",
      "0.9573409598214285 0.915859375 172.1953125\n",
      "0.9565066964285714 0.915234375 171.8359375\n",
      "0.9558314732142857 0.9161328125 171.30859375\n",
      "0.9568666294642857 0.9147265625 172.1171875\n",
      "0.9558342633928572 0.91705078125 171.15625\n",
      "0.9568024553571428 0.91662109375 172.39453125\n",
      "0.9565318080357142 0.9162109375 171.953125\n",
      "0.9564285714285714 0.91744140625 171.6328125\n"
     ]
    }
   ],
   "source": [
    "for i in range(10):\n",
    "    batch = torch.from_numpy(next(iter(train_loader)))\n",
    "    res = trakcer.tracking(batch,maxLayer=10,useSinkhorn=False)\n",
    "    print(res['overall'], res['puretracks'],res['numRemaining'])"
   ]
  },
  {
   "cell_type": "code",
   "execution_count": null,
   "metadata": {},
   "outputs": [],
   "source": [
    "maxLayer = 20\n",
    "target = batch[:,:,3:maxLayer]\n",
    "tracks = torch.zeros_like(batch)\n",
    "masks = torch.zeros_like(batch)\n",
    "resDict = {}\n",
    "for t in range(3,maxLayer):\n",
    "    x_curr = batch[:,:,t]\n",
    "    x_prev = batch[:,:,t+1]\n",
    "    x_prev2 = batch[:,:,t+2]\n",
    "    res,mask = step(x_curr,x_prev,x_prev2,t,useSinkhorn=True)\n",
    "    tracks[:,:,t] =  x_curr[torch.arange(x_curr.size(0)).unsqueeze(1),res]\n",
    "    masks[:,:,t] = torch.stack([mask,mask,mask],dim=-1)"
   ]
  },
  {
   "cell_type": "code",
   "execution_count": 14,
   "metadata": {},
   "outputs": [
    {
     "name": "stdout",
     "output_type": "stream",
     "text": [
      "0.9111 0.56555 102.67\n",
      "0.9082740740740741 0.5548 103.52\n",
      "0.91245 0.5742 101.06\n",
      "0.9087777777777778 0.53955 103.34\n",
      "0.9110314814814815 0.55805 101.97\n",
      "0.9096555555555556 0.56005 101.44\n",
      "0.91015 0.55695 102.53\n",
      "0.9123722222222223 0.5611 102.69\n",
      "0.9081092592592592 0.5376 103.72\n",
      "0.9091925925925926 0.54395 104.55\n"
     ]
    }
   ],
   "source": [
    "for i in range(10):\n",
    "    batch = torch.from_numpy(next(iter(train_loader)))\n",
    "    batch = batch[:100]\n",
    "    res = trakcer.tracking(batch,maxLayer=30)\n",
    "    print(res['overall'], res['puretracks'],res['numRemaining'])"
   ]
  },
  {
   "cell_type": "code",
   "execution_count": null,
   "metadata": {},
   "outputs": [],
   "source": []
  },
  {
   "cell_type": "code",
   "execution_count": null,
   "metadata": {},
   "outputs": [],
   "source": [
    "testMask = masks[:,:,3:maxLayer]\n",
    "testMask = testMask == 1\n",
    "trackmatch = target == preds\n",
    "allMatches = trackmatch.all(axis = 2)\n",
    "outTracks = ~testMask.all(axis=2)\n",
    "acc = target.eq(preds).sum().item()/target.nelement()\n",
    "overall = torch.sum(allMatches+outTracks).item()/allMatches.nelement()\n",
    "numPureTracks = testMask.all(axis = 2).sum()//3\n",
    "numTracks = target.shape[1]*numPureTracks.item()/(target.shape[1]*target.shape[0])"
   ]
  },
  {
   "cell_type": "code",
   "execution_count": 10,
   "metadata": {},
   "outputs": [
    {
     "data": {
      "text/plain": [
       "0.009812282986111111"
      ]
     },
     "execution_count": 10,
     "metadata": {},
     "output_type": "execute_result"
    }
   ],
   "source": [
    "testBatch = batch[:,:,2:20]\n",
    "testTracks = tracks[:,:,2:20]\n",
    "testMasks = masks[:,:,2:20]\n",
    "testBatch.eq(testTracks).sum().item() /testBatch.nelement()"
   ]
  },
  {
   "cell_type": "code",
   "execution_count": 11,
   "metadata": {},
   "outputs": [],
   "source": [
    "testMasks = testMasks == 1"
   ]
  },
  {
   "cell_type": "code",
   "execution_count": 12,
   "metadata": {},
   "outputs": [
    {
     "data": {
      "text/plain": [
       "(torch.Size([256, 200, 18, 3]), torch.Size([256, 200, 18, 3]))"
      ]
     },
     "execution_count": 12,
     "metadata": {},
     "output_type": "execute_result"
    }
   ],
   "source": [
    "testMasks.shape, testBatch.shape"
   ]
  },
  {
   "cell_type": "code",
   "execution_count": null,
   "metadata": {},
   "outputs": [],
   "source": []
  },
  {
   "cell_type": "code",
   "execution_count": 13,
   "metadata": {},
   "outputs": [
    {
     "data": {
      "text/plain": [
       "tensor([[-4.3071e+00,  2.7279e+00,  2.4459e-02],\n",
       "        [-4.3612e+00,  2.6711e+00,  2.4189e-02],\n",
       "        [-4.4053e+00,  2.5256e+00,  1.7284e-02],\n",
       "        ...,\n",
       "        [-6.1780e+00,  2.7208e+01,  8.1734e-02],\n",
       "        [-6.5824e+00,  2.7407e+01,  5.0716e-02],\n",
       "        [-7.1215e+00,  2.7607e+01,  5.0197e-02]])"
      ]
     },
     "execution_count": 13,
     "metadata": {},
     "output_type": "execute_result"
    }
   ],
   "source": [
    "#.eq(testTracks[torch.arange(testBatch.size(0)).unsqueeze(1),testMasks]).sum().item() / testMasks.sum().item()\n",
    "b = 0\n",
    "tb = testBatch[b]\n",
    "tt = testTracks[b]\n",
    "tm = testMasks[b]\n",
    "\n",
    "\n",
    "tb[tm.all(axis = -1)]"
   ]
  },
  {
   "cell_type": "code",
   "execution_count": 14,
   "metadata": {},
   "outputs": [
    {
     "data": {
      "text/plain": [
       "torch.Size([2572248])"
      ]
     },
     "execution_count": 14,
     "metadata": {},
     "output_type": "execute_result"
    }
   ],
   "source": [
    "testBatch[testMasks].shape"
   ]
  },
  {
   "cell_type": "code",
   "execution_count": 15,
   "metadata": {},
   "outputs": [
    {
     "data": {
      "text/plain": [
       "0.86369140625"
      ]
     },
     "execution_count": 15,
     "metadata": {},
     "output_type": "execute_result"
    }
   ],
   "source": [
    "trackmath = testBatch == testTracks\n",
    "allMatches = trackmath.all(axis = 2)\n",
    "outTracks = ~testMasks.all(axis = 2)\n",
    "torch.sum(allMatches+outTracks).item()/allMatches.numel()"
   ]
  },
  {
   "cell_type": "code",
   "execution_count": null,
   "metadata": {},
   "outputs": [
    {
     "data": {
      "text/plain": [
       "tensor(1.0226)"
      ]
     },
     "execution_count": 49,
     "metadata": {},
     "output_type": "execute_result"
    }
   ],
   "source": [
    "testMasks.all(axis = 2).sum()//3\n",
    "256*200/"
   ]
  },
  {
   "cell_type": "code",
   "execution_count": 52,
   "metadata": {},
   "outputs": [
    {
     "data": {
      "text/plain": [
       "torch.Size([256, 200, 18, 3])"
      ]
     },
     "execution_count": 52,
     "metadata": {},
     "output_type": "execute_result"
    }
   ],
   "source": [
    "testBatch.shape"
   ]
  },
  {
   "cell_type": "code",
   "execution_count": 51,
   "metadata": {},
   "outputs": [
    {
     "data": {
      "text/plain": [
       "65.1953125"
      ]
     },
     "execution_count": 51,
     "metadata": {},
     "output_type": "execute_result"
    }
   ],
   "source": [
    "numPureTracks = testMasks.all(axis = 2).sum()//3\n",
    "200* numPureTracks.item()/(testBatch.shape[0]*testBatch.shape[1])"
   ]
  },
  {
   "cell_type": "code",
   "execution_count": 30,
   "metadata": {},
   "outputs": [
    {
     "data": {
      "text/plain": [
       "0.9262272135416667"
      ]
     },
     "execution_count": 30,
     "metadata": {},
     "output_type": "execute_result"
    }
   ],
   "source": [
    "testMasks.sum().item()/testBatch.nelement()"
   ]
  },
  {
   "cell_type": "code",
   "execution_count": null,
   "metadata": {},
   "outputs": [
    {
     "data": {
      "text/plain": [
       "torch.Size([256, 200, 3])"
      ]
     },
     "execution_count": 23,
     "metadata": {},
     "output_type": "execute_result"
    }
   ],
   "source": [
    "#/testMasks.nelement()\n",
    "testMasks.all(axis = 2).sum().item()/testMasks"
   ]
  },
  {
   "cell_type": "code",
   "execution_count": 20,
   "metadata": {},
   "outputs": [
    {
     "data": {
      "text/plain": [
       "PosPredictor(\n",
       "  (left1): Linear(in_features=3, out_features=256, bias=True)\n",
       "  (leftact1): ReLU()\n",
       "  (left2): Linear(in_features=256, out_features=512, bias=True)\n",
       "  (right1): Linear(in_features=3, out_features=256, bias=True)\n",
       "  (rightact1): ReLU()\n",
       "  (right2): Linear(in_features=256, out_features=512, bias=True)\n",
       "  (out): Linear(in_features=512, out_features=3, bias=True)\n",
       ")"
      ]
     },
     "execution_count": 20,
     "metadata": {},
     "output_type": "execute_result"
    }
   ],
   "source": [
    "rootDir = 'runs'\n",
    "exper = \"Mar05_02-41-59_cluster6_neuron_gridsearch\"\n",
    "expconf = omegaconf.OmegaConf.load(f'{rootDir}/{exper}/config.yaml')\n",
    "model = PosPredictor(**expconf.ModelParams)\n",
    "model.load_state_dict(torch.load(f'{rootDir}/{exper}/model.pth'))\n",
    "model.eval()\n",
    "#model = torch.load(f'{rootDir}/{exper}/model.pth')"
   ]
  },
  {
   "cell_type": "code",
   "execution_count": 40,
   "metadata": {},
   "outputs": [
    {
     "data": {
      "text/plain": [
       "dict_keys(['LoaderParams', 'ValLoaderParams', 'ModelParams', 'TrainingParams', 'SinkhornParams', 'deviceNum'])"
      ]
     },
     "execution_count": 40,
     "metadata": {},
     "output_type": "execute_result"
    }
   ],
   "source": [
    "conf.keys()"
   ]
  },
  {
   "cell_type": "code",
   "execution_count": null,
   "metadata": {},
   "outputs": [],
   "source": []
  },
  {
   "cell_type": "code",
   "execution_count": null,
   "metadata": {},
   "outputs": [],
   "source": []
  },
  {
   "cell_type": "code",
   "execution_count": 49,
   "metadata": {},
   "outputs": [],
   "source": [
    "batch = torch.from_numpy(next(iter(trakcer.loader)))\n",
    "targetLayer = 4\n",
    "x_prev = batch[:,:,targetLayer+1]\n",
    "x_curr = batch[:,:,targetLayer]\n",
    "res = trakcer.match(x_prev,x_curr)\n"
   ]
  },
  {
   "cell_type": "code",
   "execution_count": 52,
   "metadata": {},
   "outputs": [
    {
     "data": {
      "text/plain": [
       "tensor(0.9800)"
      ]
     },
     "execution_count": 52,
     "metadata": {},
     "output_type": "execute_result"
    }
   ],
   "source": [
    "x_curr[0].eq(x_curr[0][res[0]].view_as(x_curr[0])).sum()/x_curr[0].nelement()"
   ]
  },
  {
   "cell_type": "code",
   "execution_count": null,
   "metadata": {},
   "outputs": [
    {
     "data": {
      "text/plain": [
       "torch.Size([256, 100])"
      ]
     },
     "execution_count": 50,
     "metadata": {},
     "output_type": "execute_result"
    }
   ],
   "source": []
  },
  {
   "cell_type": "code",
   "execution_count": null,
   "metadata": {},
   "outputs": [],
   "source": []
  },
  {
   "cell_type": "code",
   "execution_count": 26,
   "metadata": {},
   "outputs": [],
   "source": [
    "batch = torch.from_numpy(next(iter(train_loader)))"
   ]
  },
  {
   "cell_type": "code",
   "execution_count": 27,
   "metadata": {},
   "outputs": [],
   "source": [
    "x2 = batch[:,:,2]\n",
    "x1 = batch[:,:,1]\n",
    "x0 = batch[:,:,0]"
   ]
  },
  {
   "cell_type": "code",
   "execution_count": 29,
   "metadata": {},
   "outputs": [],
   "source": [
    "x_pred = model(x1,x2)"
   ]
  },
  {
   "cell_type": "code",
   "execution_count": 30,
   "metadata": {},
   "outputs": [
    {
     "data": {
      "text/plain": [
       "<matplotlib.collections.PathCollection at 0x76b507771220>"
      ]
     },
     "execution_count": 30,
     "metadata": {},
     "output_type": "execute_result"
    },
    {
     "data": {
      "image/png": "[encoded data removed]",
      "text/plain": [
       "<Figure size 640x480 with 1 Axes>"
      ]
     },
     "metadata": {},
     "output_type": "display_data"
    }
   ],
   "source": [
    "plt.scatter(x0[0,:,0],x0[0,:,1])\n",
    "plt.scatter(x_pred[0,:,0].detach().numpy(),x_pred[0,:,1].detach().numpy())"
   ]
  },
  {
   "cell_type": "code",
   "execution_count": 31,
   "metadata": {},
   "outputs": [],
   "source": [
    "likelymatches = torch.argmin(torch.cdist(x0,x_pred),dim=1)"
   ]
  },
  {
   "cell_type": "code",
   "execution_count": null,
   "metadata": {},
   "outputs": [],
   "source": []
  },
  {
   "cell_type": "code",
   "execution_count": null,
   "metadata": {},
   "outputs": [],
   "source": []
  },
  {
   "cell_type": "code",
   "execution_count": 21,
   "metadata": {},
   "outputs": [],
   "source": [
    "def SinkhornMatching(distMx,temp=0.59,n_iter=10):\n",
    "    S = torch.softmax(-distMx/temp,dim=1)\n",
    "    for i in range(n_iter):\n",
    "        S /= torch.sum(S,dim=1,keepdim=True)\n",
    "        S /= torch.sum(S,dim=2,keepdim=True)\n",
    "    return S\n",
    "def CorrectionMask(S):\n",
    "    xpreds = torch.argmax(S,dim=1)\n",
    "    ypreds = torch.argmax(S,dim=2)\n",
    "    return xpreds == ypreds\n"
   ]
  },
  {
   "cell_type": "code",
   "execution_count": 22,
   "metadata": {},
   "outputs": [],
   "source": [
    "conf.LoaderParams.norm = False\n",
    "conf.LoaderParams.ParticleNumber = 200\n",
    "train_loader = DataLoader('data/train',**conf.LoaderParams)"
   ]
  },
  {
   "cell_type": "code",
   "execution_count": 23,
   "metadata": {},
   "outputs": [
    {
     "data": {
      "text/plain": [
       "(256, 200, 41, 3)"
      ]
     },
     "execution_count": 23,
     "metadata": {},
     "output_type": "execute_result"
    }
   ],
   "source": [
    "batch = next(iter(train_loader))\n",
    "bidx = 64\n",
    "tl = 1\n",
    "batch.shape"
   ]
  },
  {
   "cell_type": "code",
   "execution_count": 24,
   "metadata": {},
   "outputs": [
    {
     "data": {
      "text/plain": [
       "torch.Size([64, 200, 3])"
      ]
     },
     "execution_count": 24,
     "metadata": {},
     "output_type": "execute_result"
    }
   ],
   "source": [
    "x = torch.from_numpy(batch[:bidx,:,tl])\n",
    "y = torch.from_numpy(batch[:bidx,:,tl+1])\n",
    "y.shape"
   ]
  },
  {
   "cell_type": "code",
   "execution_count": 25,
   "metadata": {},
   "outputs": [],
   "source": [
    "#x [x == 0] = 1000\n",
    "#y[y == 0] = 1000"
   ]
  },
  {
   "cell_type": "code",
   "execution_count": 26,
   "metadata": {},
   "outputs": [
    {
     "data": {
      "text/plain": [
       "38400"
      ]
     },
     "execution_count": 26,
     "metadata": {},
     "output_type": "execute_result"
    }
   ],
   "source": [
    "y.nelement()"
   ]
  },
  {
   "cell_type": "code",
   "execution_count": 27,
   "metadata": {},
   "outputs": [],
   "source": [
    "distMx = torch.cdist(x,y)\n",
    "S = SinkhornMatching(distMx,temp = 0.5)\n",
    "LikelyMatches = torch.argmax(S,dim=1)\n",
    "mask = CorrectionMask(S)"
   ]
  },
  {
   "cell_type": "code",
   "execution_count": 28,
   "metadata": {},
   "outputs": [
    {
     "data": {
      "text/plain": [
       "tensor(3532)"
      ]
     },
     "execution_count": 28,
     "metadata": {},
     "output_type": "execute_result"
    }
   ],
   "source": [
    "torch.sum(mask == False)"
   ]
  },
  {
   "cell_type": "code",
   "execution_count": 29,
   "metadata": {},
   "outputs": [
    {
     "data": {
      "text/plain": [
       "tensor(0.7600)"
      ]
     },
     "execution_count": 29,
     "metadata": {},
     "output_type": "execute_result"
    }
   ],
   "source": [
    "#LikelyMatches = torch.argmax(S,dim=1)\n",
    "torch.sum(x[0,LikelyMatches[0]] == x[0])/x[0].nelement()"
   ]
  },
  {
   "cell_type": "code",
   "execution_count": 30,
   "metadata": {},
   "outputs": [
    {
     "data": {
      "text/plain": [
       "(torch.Size([200, 3]), torch.Size([200]), tensor(154))"
      ]
     },
     "execution_count": 30,
     "metadata": {},
     "output_type": "execute_result"
    }
   ],
   "source": [
    "\n",
    "x[0].shape,mask[0].shape,torch.sum(mask[0])"
   ]
  },
  {
   "cell_type": "code",
   "execution_count": 32,
   "metadata": {},
   "outputs": [
    {
     "data": {
      "text/plain": [
       "0.0040625"
      ]
     },
     "execution_count": 32,
     "metadata": {},
     "output_type": "execute_result"
    }
   ],
   "source": [
    "x.eq(y.view_as(x)).sum().item()/x.nelement()"
   ]
  },
  {
   "cell_type": "code",
   "execution_count": 222,
   "metadata": {},
   "outputs": [
    {
     "data": {
      "text/plain": [
       "(tensor(0.8394), 145.859375)"
      ]
     },
     "execution_count": 222,
     "metadata": {},
     "output_type": "execute_result"
    }
   ],
   "source": [
    "acc = 0\n",
    "numRec = 0\n",
    "for b in range(y.shape[0]):\n",
    "    numReconstructed = torch.sum(mask[b])\n",
    "    numRec += numReconstructed\n",
    "    truepoints = y[b][mask[b]]\n",
    "    comparepoints = y[b,LikelyMatches[b]][mask[b]]\n",
    "    acc += torch.sum(comparepoints == truepoints)/(3*numReconstructed)\n",
    "acc /= y.shape[0]\n",
    "numRec = float(numRec)/y.shape[0]\n",
    "acc,numRec"
   ]
  },
  {
   "cell_type": "code",
   "execution_count": 1,
   "metadata": {},
   "outputs": [
    {
     "name": "stdout",
     "output_type": "stream",
     "text": [
      "[JupyterServerStopApp] Shutting down server on 9999...\n",
      "^C\n",
      "Traceback (most recent call last):\n",
      "  File \"/home/bdudas/anaconda3/envs/pct/bin/jupyter-notebook\", line 8, in <module>\n",
      "    sys.exit(main())\n",
      "  File \"/home/bdudas/anaconda3/envs/pct/lib/python3.9/site-packages/jupyter_server/extension/application.py\", line 623, in launch_instance\n",
      "    serverapp.start()\n",
      "  File \"/home/bdudas/anaconda3/envs/pct/lib/python3.9/site-packages/jupyter_server/serverapp.py\", line 3179, in start\n",
      "    self.start_app()\n",
      "  File \"/home/bdudas/anaconda3/envs/pct/lib/python3.9/site-packages/jupyter_server/serverapp.py\", line 3048, in start_app\n",
      "    super().start()\n",
      "  File \"/home/bdudas/anaconda3/envs/pct/lib/python3.9/site-packages/jupyter_core/application.py\", line 270, in start\n",
      "    self.subapp.start()\n",
      "  File \"/home/bdudas/anaconda3/envs/pct/lib/python3.9/site-packages/jupyter_server/serverapp.py\", line 742, in start\n",
      "    self._shutdown_or_exit(port, server)\n",
      "  File \"/home/bdudas/anaconda3/envs/pct/lib/python3.9/site-packages/jupyter_server/serverapp.py\", line 714, in _shutdown_or_exit\n",
      "    if not self.shutdown_server(server):\n",
      "  File \"/home/bdudas/anaconda3/envs/pct/lib/python3.9/site-packages/jupyter_server/serverapp.py\", line 709, in shutdown_server\n",
      "    return shutdown_server(server, log=self.log)\n",
      "  File \"/home/bdudas/anaconda3/envs/pct/lib/python3.9/site-packages/jupyter_server/serverapp.py\", line 635, in shutdown_server\n",
      "    fetch(\n",
      "  File \"/home/bdudas/anaconda3/envs/pct/lib/python3.9/site-packages/jupyter_server/utils.py\", line 307, in fetch\n",
      "    response = HTTPClient(AsyncHTTPClient).fetch(request)\n",
      "  File \"/home/bdudas/anaconda3/envs/pct/lib/python3.9/site-packages/tornado/httpclient.py\", line 134, in fetch\n",
      "    response = self._io_loop.run_sync(\n",
      "  File \"/home/bdudas/anaconda3/envs/pct/lib/python3.9/site-packages/tornado/ioloop.py\", line 523, in run_sync\n",
      "    self.start()\n",
      "  File \"/home/bdudas/anaconda3/envs/pct/lib/python3.9/site-packages/tornado/platform/asyncio.py\", line 215, in start\n",
      "    self.asyncio_loop.run_forever()\n",
      "  File \"/home/bdudas/anaconda3/envs/pct/lib/python3.9/asyncio/base_events.py\", line 601, in run_forever\n",
      "    self._run_once()\n",
      "  File \"/home/bdudas/anaconda3/envs/pct/lib/python3.9/asyncio/base_events.py\", line 1869, in _run_once\n",
      "    event_list = self._selector.select(timeout)\n",
      "  File \"/home/bdudas/anaconda3/envs/pct/lib/python3.9/selectors.py\", line 469, in select\n",
      "    fd_event_list = self._selector.poll(timeout, max_ev)\n",
      "KeyboardInterrupt\n",
      "Task was destroyed but it is pending!\n",
      "task: <Task pending name='Task-2' coro=<_HTTPConnection.run() running at /home/bdudas/anaconda3/envs/pct/lib/python3.9/site-packages/tornado/simple_httpclient.py:446> wait_for=<Future pending cb=[<TaskWakeupMethWrapper object at 0x71cf1e7a7490>()]> cb=[IOLoop.add_future.<locals>.<lambda>() at /home/bdudas/anaconda3/envs/pct/lib/python3.9/site-packages/tornado/ioloop.py:687]>\n"
     ]
    }
   ],
   "source": [
    "!jupyter notebook stop 9999"
   ]
  },
  {
   "cell_type": "code",
   "execution_count": null,
   "metadata": {},
   "outputs": [],
   "source": []
  }
 ],
 "metadata": {
  "kernelspec": {
   "display_name": "pct",
   "language": "python",
   "name": "python3"
  },
  "language_info": {
   "codemirror_mode": {
    "name": "ipython",
    "version": 3
   },
   "file_extension": ".py",
   "mimetype": "text/x-python",
   "name": "python",
   "nbconvert_exporter": "python",
   "pygments_lexer": "ipython3",
   "version": "3.9.13"
  }
 },
 "nbformat": 4,
 "nbformat_minor": 2
}
