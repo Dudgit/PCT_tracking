{
 "cells": [
  {
   "cell_type": "markdown",
   "metadata": {},
   "source": [
    "# Importing training Data\n",
    "TODO: dealing with test data loading"
   ]
  },
  {
   "cell_type": "code",
   "execution_count": 1,
   "metadata": {},
   "outputs": [],
   "source": [
    "import numpy as np\n",
    "from glob import glob\n",
    "import omegaconf\n",
    "from utils.data import DataLoader\n",
    "import matplotlib.pyplot as plt\n",
    "import pandas as pd\n"
   ]
  },
  {
   "cell_type": "code",
   "execution_count": 4,
   "metadata": {},
   "outputs": [],
   "source": [
    "import os\n",
    "os.makedirs('test', exist_ok=True)\n",
    "np.save('test/1.npy', np.array([1, 2, 3]))"
   ]
  },
  {
   "cell_type": "code",
   "execution_count": 2,
   "metadata": {},
   "outputs": [],
   "source": [
    "conf = omegaconf.OmegaConf.load('configs/baseConfig.yaml')"
   ]
  },
  {
   "cell_type": "code",
   "execution_count": 13,
   "metadata": {},
   "outputs": [
    {
     "data": {
      "text/plain": [
       "'/home/bdudas/PCT_DATA2/output/wpt_70/1740420303_2e8d5efa-1b4a-4125-9745-e3217cefe176_water_1000Primaries_2.hits.npy'"
      ]
     },
     "execution_count": 13,
     "metadata": {},
     "output_type": "execute_result"
    }
   ],
   "source": [
    "rootDIR = '/home/bdudas/PCT_DATA2/output/'\n",
    "wpts = list(range(70,200,10))\n",
    "sampleWPT = wpts[0]\n",
    "sampleElem = glob(rootDIR + f'wpt_{sampleWPT}/*.npy')[0]\n",
    "sampleElem"
   ]
  },
  {
   "cell_type": "code",
   "execution_count": 17,
   "metadata": {},
   "outputs": [],
   "source": [
    "hit = pd.DataFrame(np.load(sampleElem))\n",
    "hit = hit[hit.parentID == 0]"
   ]
  },
  {
   "cell_type": "code",
   "execution_count": 23,
   "metadata": {},
   "outputs": [],
   "source": [
    "hit['Layer'] =  2*(hit['volumeID[2]'])+hit['volumeID[3]']"
   ]
  },
  {
   "cell_type": "code",
   "execution_count": 25,
   "metadata": {},
   "outputs": [],
   "source": [
    "hit.sort_values(by=['eventID','Layer'],inplace=True)"
   ]
  },
  {
   "cell_type": "code",
   "execution_count": 37,
   "metadata": {},
   "outputs": [
    {
     "name": "stdout",
     "output_type": "stream",
     "text": [
      "EventIDs with non-unique Layer values: [45, 266, 718, 799]\n"
     ]
    }
   ],
   "source": [
    "# Group by eventID and check for non-unique Layer values\n",
    "non_unique_layers = hit.groupby('eventID')['Layer'].nunique() != hit.groupby('eventID')['Layer'].size()\n",
    "\n",
    "# Filter the eventIDs with non-unique Layer values\n",
    "non_unique_eventIDs = non_unique_layers[non_unique_layers].index\n",
    "\n",
    "# Display the eventIDs with non-unique Layer values\n",
    "print(\"EventIDs with non-unique Layer values:\", non_unique_eventIDs.tolist())\n",
    "hit = hit[~hit.eventID.isin(non_unique_eventIDs)]"
   ]
  },
  {
   "cell_type": "code",
   "execution_count": 59,
   "metadata": {},
   "outputs": [
    {
     "data": {
      "text/html": [
       "<div>\n",
       "<style scoped>\n",
       "    .dataframe tbody tr th:only-of-type {\n",
       "        vertical-align: middle;\n",
       "    }\n",
       "\n",
       "    .dataframe tbody tr th {\n",
       "        vertical-align: top;\n",
       "    }\n",
       "\n",
       "    .dataframe thead th {\n",
       "        text-align: right;\n",
       "    }\n",
       "</style>\n",
       "<table border=\"1\" class=\"dataframe\">\n",
       "  <thead>\n",
       "    <tr style=\"text-align: right;\">\n",
       "      <th></th>\n",
       "      <th>eventID</th>\n",
       "      <th>posX</th>\n",
       "      <th>posY</th>\n",
       "      <th>edep</th>\n",
       "    </tr>\n",
       "  </thead>\n",
       "  <tbody>\n",
       "    <tr>\n",
       "      <th>0</th>\n",
       "      <td>0</td>\n",
       "      <td>-12.803946</td>\n",
       "      <td>1.457997</td>\n",
       "      <td>0.015062</td>\n",
       "    </tr>\n",
       "    <tr>\n",
       "      <th>1</th>\n",
       "      <td>0</td>\n",
       "      <td>-14.391742</td>\n",
       "      <td>1.822247</td>\n",
       "      <td>0.018286</td>\n",
       "    </tr>\n",
       "    <tr>\n",
       "      <th>2</th>\n",
       "      <td>0</td>\n",
       "      <td>-15.460902</td>\n",
       "      <td>2.131060</td>\n",
       "      <td>0.029171</td>\n",
       "    </tr>\n",
       "  </tbody>\n",
       "</table>\n",
       "</div>"
      ],
      "text/plain": [
       "   eventID       posX      posY      edep\n",
       "0        0 -12.803946  1.457997  0.015062\n",
       "1        0 -14.391742  1.822247  0.018286\n",
       "2        0 -15.460902  2.131060  0.029171"
      ]
     },
     "execution_count": 59,
     "metadata": {},
     "output_type": "execute_result"
    }
   ],
   "source": [
    "\n",
    "tmp = hit.loc[hit.eventID == 0,['eventID','posX','posY','edep']]\n",
    "tmp.head(3)"
   ]
  },
  {
   "cell_type": "code",
   "execution_count": 61,
   "metadata": {},
   "outputs": [],
   "source": [
    "tmp.drop(columns='eventID',inplace=True)"
   ]
  },
  {
   "cell_type": "code",
   "execution_count": null,
   "metadata": {},
   "outputs": [],
   "source": []
  },
  {
   "cell_type": "code",
   "execution_count": 74,
   "metadata": {},
   "outputs": [],
   "source": [
    "def padarray(A,size = 41):\n",
    "    t = size - len(A)\n",
    "    if t > 0:\n",
    "        return np.pad(A, [(0,t),(0,0)], 'constant', constant_values=0)\n",
    "    else:\n",
    "        return A"
   ]
  },
  {
   "cell_type": "code",
   "execution_count": 75,
   "metadata": {},
   "outputs": [
    {
     "data": {
      "text/plain": [
       "(41, 3)"
      ]
     },
     "execution_count": 75,
     "metadata": {},
     "output_type": "execute_result"
    }
   ],
   "source": [
    "padtmp = padarray(tmp.values)\n",
    "padtmp.shape"
   ]
  },
  {
   "cell_type": "code",
   "execution_count": 76,
   "metadata": {},
   "outputs": [
    {
     "data": {
      "text/plain": [
       "array([[-1.2803946e+01,  1.4579966e+00,  1.5062129e-02],\n",
       "       [-1.4391742e+01,  1.8222469e+00,  1.8286265e-02],\n",
       "       [-1.5460902e+01,  2.1310601e+00,  2.9171370e-02],\n",
       "       [-1.5590895e+01,  2.1430550e+00,  1.4753000e-02],\n",
       "       [-1.5722945e+01,  2.1501043e+00,  1.9859070e-02],\n",
       "       [-1.5923079e+01,  2.1365724e+00,  1.7760776e-02],\n",
       "       [-1.6221889e+01,  2.1059155e+00,  1.1343314e-02],\n",
       "       [-1.6494389e+01,  2.0766759e+00,  1.1815625e-02],\n",
       "       [-1.6728987e+01,  2.0504918e+00,  2.1682428e-02],\n",
       "       [-1.6936878e+01,  2.0021400e+00,  1.9102644e-02],\n",
       "       [-1.7062344e+01,  1.9008839e+00,  1.3040190e-02],\n",
       "       [-1.7192095e+01,  1.7882410e+00,  2.3866680e-02],\n",
       "       [-1.7335812e+01,  1.6563423e+00,  2.7240906e-02],\n",
       "       [-1.7463354e+01,  1.5715796e+00,  2.5114294e-02],\n",
       "       [-1.7519327e+01,  1.5409077e+00,  2.0305952e-02],\n",
       "       [-1.7617891e+01,  1.4087247e+00,  3.9654348e-02],\n",
       "       [-1.7697517e+01,  1.2714899e+00,  1.4863799e-02],\n",
       "       [-1.7809317e+01,  1.0998101e+00,  3.0676510e-02],\n",
       "       [-1.7891979e+01,  9.0240598e-01,  2.4810407e-02],\n",
       "       [-1.7883032e+01,  7.5877118e-01,  2.6256392e-02],\n",
       "       [-1.7827768e+01,  6.1909300e-01,  3.4096099e-02],\n",
       "       [-1.7779268e+01,  5.1794606e-01,  4.5211587e-02],\n",
       "       [-1.7690334e+01,  3.8632038e-01,  1.6321104e-02],\n",
       "       [-1.7607754e+01,  2.0986751e-01,  3.6758352e-02],\n",
       "       [-1.7364836e+01,  5.7217684e-03,  3.3354346e-02],\n",
       "       [-1.7143311e+01, -1.4370935e-01,  3.4936029e-02],\n",
       "       [-1.6892586e+01, -2.4082346e-01,  3.5193067e-02],\n",
       "       [-1.6577765e+01, -3.1310329e-01,  4.2313568e-02],\n",
       "       [-1.6306223e+01, -3.7084377e-01,  3.9123949e-02],\n",
       "       [-1.5934123e+01, -6.0012949e-01,  4.5604803e-02],\n",
       "       [-1.5112909e+01, -1.4810414e+00,  4.2471118e-02],\n",
       "       [-1.4124335e+01, -2.2874629e+00,  7.0726447e-02],\n",
       "       [-1.2960720e+01, -3.3549237e+00,  1.0887640e-01],\n",
       "       [ 0.0000000e+00,  0.0000000e+00,  0.0000000e+00],\n",
       "       [ 0.0000000e+00,  0.0000000e+00,  0.0000000e+00],\n",
       "       [ 0.0000000e+00,  0.0000000e+00,  0.0000000e+00],\n",
       "       [ 0.0000000e+00,  0.0000000e+00,  0.0000000e+00],\n",
       "       [ 0.0000000e+00,  0.0000000e+00,  0.0000000e+00],\n",
       "       [ 0.0000000e+00,  0.0000000e+00,  0.0000000e+00],\n",
       "       [ 0.0000000e+00,  0.0000000e+00,  0.0000000e+00],\n",
       "       [ 0.0000000e+00,  0.0000000e+00,  0.0000000e+00]], dtype=float32)"
      ]
     },
     "execution_count": 76,
     "metadata": {},
     "output_type": "execute_result"
    }
   ],
   "source": [
    "padtmp"
   ]
  },
  {
   "cell_type": "code",
   "execution_count": null,
   "metadata": {},
   "outputs": [],
   "source": []
  },
  {
   "cell_type": "code",
   "execution_count": null,
   "metadata": {},
   "outputs": [],
   "source": []
  },
  {
   "cell_type": "markdown",
   "metadata": {},
   "source": [
    "# Model testings"
   ]
  },
  {
   "cell_type": "code",
   "execution_count": 6,
   "metadata": {},
   "outputs": [
    {
     "name": "stderr",
     "output_type": "stream",
     "text": [
      "/home/bdudas/anaconda3/envs/pct/lib/python3.9/site-packages/tqdm/auto.py:22: TqdmWarning: IProgress not found. Please update jupyter and ipywidgets. See https://ipywidgets.readthedocs.io/en/stable/user_install.html\n",
      "  from .autonotebook import tqdm as notebook_tqdm\n"
     ]
    }
   ],
   "source": [
    "from utils.model import PosPredictor"
   ]
  },
  {
   "cell_type": "code",
   "execution_count": 5,
   "metadata": {},
   "outputs": [
    {
     "name": "stderr",
     "output_type": "stream",
     "text": [
      "/home/bdudas/anaconda3/envs/pct/lib/python3.9/site-packages/tqdm/auto.py:22: TqdmWarning: IProgress not found. Please update jupyter and ipywidgets. See https://ipywidgets.readthedocs.io/en/stable/user_install.html\n",
      "  from .autonotebook import tqdm as notebook_tqdm\n"
     ]
    }
   ],
   "source": [
    "import torch\n",
    "import torch.nn as nn\n",
    "import torch.optim as optim\n",
    "import torch.nn.functional as F"
   ]
  },
  {
   "cell_type": "code",
   "execution_count": null,
   "metadata": {},
   "outputs": [],
   "source": []
  }
 ],
 "metadata": {
  "kernelspec": {
   "display_name": "pct",
   "language": "python",
   "name": "python3"
  },
  "language_info": {
   "codemirror_mode": {
    "name": "ipython",
    "version": 3
   },
   "file_extension": ".py",
   "mimetype": "text/x-python",
   "name": "python",
   "nbconvert_exporter": "python",
   "pygments_lexer": "ipython3",
   "version": "3.9.13"
  }
 },
 "nbformat": 4,
 "nbformat_minor": 2
}
